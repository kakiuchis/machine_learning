{
 "cells": [
  {
   "cell_type": "markdown",
   "metadata": {},
   "source": [
    "# ボストン住宅価格　線形回帰\n",
    "\n",
    "## 線形回帰とは何か\n",
    "\n",
    "以下の観点をすべて含めて記述しましょう。\n",
    "\n",
    "### 線形回帰とは何か。\n",
    "\n",
    "線形回帰とは、ある入力値から予測する値が連続的な値をとることを言います。\n",
    "\n",
    "### 具体的に言うと？\n",
    "\n",
    "具体的に言うと、ある特徴量をxとして、xを用いてyをある関数で表せることを意味しています。\n",
    "\n",
    "### 分類と何か違うのか。\n",
    "\n",
    "線形回帰が連続的な値をとることに対し、分類は離散したどのカテゴリに当てはまるかを予測することです。"
   ]
  },
  {
   "cell_type": "markdown",
   "metadata": {},
   "source": [
    "## データを取得する"
   ]
  },
  {
   "cell_type": "code",
   "execution_count": 2,
   "metadata": {
    "collapsed": true
   },
   "outputs": [],
   "source": [
    "from sklearn.datasets import load_boston\n",
    "boston = load_boston()"
   ]
  },
  {
   "cell_type": "markdown",
   "metadata": {},
   "source": [
    "## 取得データをDataFrameにする"
   ]
  },
  {
   "cell_type": "code",
   "execution_count": 3,
   "metadata": {
    "collapsed": true
   },
   "outputs": [],
   "source": [
    "import pandas as pd\n",
    "X=pd.DataFrame(boston.data, columns=boston.feature_names)\n",
    "y=pd.DataFrame(boston.target)"
   ]
  },
  {
   "cell_type": "markdown",
   "metadata": {},
   "source": [
    "## 説明変数を’LSTAT’のみにする"
   ]
  },
  {
   "cell_type": "code",
   "execution_count": 4,
   "metadata": {
    "collapsed": false
   },
   "outputs": [],
   "source": [
    "X = X.loc[:, ['LSTAT']]"
   ]
  },
  {
   "cell_type": "markdown",
   "metadata": {},
   "source": [
    "## 単回帰と重回帰についての違いを記述せよ"
   ]
  },
  {
   "cell_type": "markdown",
   "metadata": {},
   "source": [
    "答え 単回帰は説明変数が1つ、重回帰は複数。"
   ]
  },
  {
   "cell_type": "markdown",
   "metadata": {},
   "source": [
    "## データを確認する"
   ]
  },
  {
   "cell_type": "code",
   "execution_count": 5,
   "metadata": {
    "collapsed": false
   },
   "outputs": [
    {
     "data": {
      "text/html": [
       "<div>\n",
       "<table border=\"1\" class=\"dataframe\">\n",
       "  <thead>\n",
       "    <tr style=\"text-align: right;\">\n",
       "      <th></th>\n",
       "      <th>LSTAT</th>\n",
       "    </tr>\n",
       "  </thead>\n",
       "  <tbody>\n",
       "    <tr>\n",
       "      <th>0</th>\n",
       "      <td>4.98</td>\n",
       "    </tr>\n",
       "    <tr>\n",
       "      <th>1</th>\n",
       "      <td>9.14</td>\n",
       "    </tr>\n",
       "    <tr>\n",
       "      <th>2</th>\n",
       "      <td>4.03</td>\n",
       "    </tr>\n",
       "    <tr>\n",
       "      <th>3</th>\n",
       "      <td>2.94</td>\n",
       "    </tr>\n",
       "    <tr>\n",
       "      <th>4</th>\n",
       "      <td>5.33</td>\n",
       "    </tr>\n",
       "  </tbody>\n",
       "</table>\n",
       "</div>"
      ],
      "text/plain": [
       "   LSTAT\n",
       "0   4.98\n",
       "1   9.14\n",
       "2   4.03\n",
       "3   2.94\n",
       "4   5.33"
      ]
     },
     "execution_count": 5,
     "metadata": {},
     "output_type": "execute_result"
    }
   ],
   "source": [
    "X.head()"
   ]
  },
  {
   "cell_type": "code",
   "execution_count": 6,
   "metadata": {
    "collapsed": false
   },
   "outputs": [
    {
     "data": {
      "text/html": [
       "<div>\n",
       "<table border=\"1\" class=\"dataframe\">\n",
       "  <thead>\n",
       "    <tr style=\"text-align: right;\">\n",
       "      <th></th>\n",
       "      <th>0</th>\n",
       "    </tr>\n",
       "  </thead>\n",
       "  <tbody>\n",
       "    <tr>\n",
       "      <th>0</th>\n",
       "      <td>24.0</td>\n",
       "    </tr>\n",
       "    <tr>\n",
       "      <th>1</th>\n",
       "      <td>21.6</td>\n",
       "    </tr>\n",
       "    <tr>\n",
       "      <th>2</th>\n",
       "      <td>34.7</td>\n",
       "    </tr>\n",
       "    <tr>\n",
       "      <th>3</th>\n",
       "      <td>33.4</td>\n",
       "    </tr>\n",
       "    <tr>\n",
       "      <th>4</th>\n",
       "      <td>36.2</td>\n",
       "    </tr>\n",
       "  </tbody>\n",
       "</table>\n",
       "</div>"
      ],
      "text/plain": [
       "      0\n",
       "0  24.0\n",
       "1  21.6\n",
       "2  34.7\n",
       "3  33.4\n",
       "4  36.2"
      ]
     },
     "execution_count": 6,
     "metadata": {},
     "output_type": "execute_result"
    }
   ],
   "source": [
    "y.head()"
   ]
  },
  {
   "cell_type": "markdown",
   "metadata": {},
   "source": [
    "## テストデータに分割する"
   ]
  },
  {
   "cell_type": "code",
   "execution_count": 7,
   "metadata": {
    "collapsed": true
   },
   "outputs": [],
   "source": [
    "from sklearn.model_selection import train_test_split\n",
    "X_train,X_test,y_train,y_test=train_test_split(X,y,test_size=0.2,random_state=0)"
   ]
  },
  {
   "cell_type": "markdown",
   "metadata": {},
   "source": [
    "## データの形状を確認する"
   ]
  },
  {
   "cell_type": "code",
   "execution_count": 8,
   "metadata": {
    "collapsed": false
   },
   "outputs": [
    {
     "data": {
      "text/plain": [
       "(404, 1)"
      ]
     },
     "execution_count": 8,
     "metadata": {},
     "output_type": "execute_result"
    }
   ],
   "source": [
    "X_train.shape"
   ]
  },
  {
   "cell_type": "code",
   "execution_count": 9,
   "metadata": {
    "collapsed": false
   },
   "outputs": [
    {
     "data": {
      "text/plain": [
       "(102, 1)"
      ]
     },
     "execution_count": 9,
     "metadata": {},
     "output_type": "execute_result"
    }
   ],
   "source": [
    "X_test.shape"
   ]
  },
  {
   "cell_type": "code",
   "execution_count": 10,
   "metadata": {
    "collapsed": false
   },
   "outputs": [
    {
     "data": {
      "text/plain": [
       "(404, 1)"
      ]
     },
     "execution_count": 10,
     "metadata": {},
     "output_type": "execute_result"
    }
   ],
   "source": [
    "y_train.shape"
   ]
  },
  {
   "cell_type": "code",
   "execution_count": 11,
   "metadata": {
    "collapsed": false
   },
   "outputs": [
    {
     "data": {
      "text/plain": [
       "(102, 1)"
      ]
     },
     "execution_count": 11,
     "metadata": {},
     "output_type": "execute_result"
    }
   ],
   "source": [
    "y_test.shape"
   ]
  },
  {
   "cell_type": "markdown",
   "metadata": {},
   "source": [
    "## 学習"
   ]
  },
  {
   "cell_type": "code",
   "execution_count": 12,
   "metadata": {
    "collapsed": false
   },
   "outputs": [
    {
     "data": {
      "text/plain": [
       "LinearRegression(copy_X=True, fit_intercept=True, n_jobs=1, normalize=False)"
      ]
     },
     "execution_count": 12,
     "metadata": {},
     "output_type": "execute_result"
    }
   ],
   "source": [
    "from sklearn.linear_model import LinearRegression\n",
    "lin_1d = LinearRegression()\n",
    "lin_1d.fit(X_train, y_train)"
   ]
  },
  {
   "cell_type": "code",
   "execution_count": 13,
   "metadata": {
    "collapsed": false
   },
   "outputs": [
    {
     "name": "stdout",
     "output_type": "stream",
     "text": [
      "一次式における'LSTAT'の住宅価格への決定係数は0.43\n"
     ]
    }
   ],
   "source": [
    "score_1d = lin_1d.score(X_test, y_test)\n",
    "print(\"一次式における'LSTAT'の住宅価格への決定係数は%.2f\"%(score_1d))"
   ]
  },
  {
   "cell_type": "markdown",
   "metadata": {},
   "source": [
    "## 決定係数とは何か記述せよ\n",
    "以下の観点をすべて含めて記述しましょう。\n",
    "\n",
    "### 決定係数とは何か\n",
    "\n",
    "決定係数は、どれだけモデルが正しいかの指標。\n",
    "\n",
    "### もっとも説明変数が、目的変数を説明できる場合、決定係数は何になるか\n",
    "\n",
    "もっとも説明変数が目的変数を説明できる場合、決定係数は1になる。\n",
    "\n",
    "### どのように求めることができるか\n",
    "\n",
    "決定係数 $R$ は教師情報 $t_i$ と予測値 $y_i$ 及び教師情報の平均 $\\mu$ を使って以下のように表されます。\n",
    "\n",
    "$$ R^2=1-\\frac{\\frac{1}{N}\\sum_i^N(y_i-t_i)^2}{\\frac{1}{N}\\sum_i^N(y_i-\\mu)^2} $$"
   ]
  },
  {
   "cell_type": "markdown",
   "metadata": {},
   "source": [
    "## 決定係数をいかなる場合も信じても良いか記述せよ(決定係数が高ければ、汎用性があるモデルと言えるか)\n",
    "\n",
    "### 決定係数が正しく評価できない例を答えよ\n",
    "\n",
    "対象のデータのみに特化している場合、汎用性があるとは言えない。"
   ]
  },
  {
   "cell_type": "markdown",
   "metadata": {
    "collapsed": true
   },
   "source": [
    "## 2,3,4次式の回帰"
   ]
  },
  {
   "cell_type": "code",
   "execution_count": 14,
   "metadata": {
    "collapsed": false
   },
   "outputs": [
    {
     "name": "stdout",
     "output_type": "stream",
     "text": [
      "二次式における'LSTAT'の住宅価格への決定係数は0.52\n",
      "三次式における'LSTAT'の住宅価格への決定係数は0.54\n",
      "四次式における'LSTAT'の住宅価格への決定係数は0.57\n"
     ]
    }
   ],
   "source": [
    "from sklearn.preprocessing import PolynomialFeatures\n",
    "\n",
    "lin_2d = LinearRegression()\n",
    "lin_3d = LinearRegression()\n",
    "lin_4d = LinearRegression()\n",
    "\n",
    "degree_2 = PolynomialFeatures(degree=2)\n",
    "degree_3 = PolynomialFeatures(degree=3)\n",
    "degree_4 = PolynomialFeatures(degree=4)\n",
    "\n",
    "X_train_2 = degree_2.fit_transform(X_train)\n",
    "X_train_3 = degree_3.fit_transform(X_train)\n",
    "X_train_4 = degree_4.fit_transform(X_train)\n",
    "\n",
    "lin_2d.fit(X_train_2, y_train)\n",
    "lin_3d.fit(X_train_3, y_train)\n",
    "lin_4d.fit(X_train_4, y_train)\n",
    "\n",
    "X_test_2 = degree_2.fit_transform(X_test)\n",
    "X_test_3 = degree_3.fit_transform(X_test)\n",
    "X_test_4 = degree_4.fit_transform(X_test)\n",
    "\n",
    "score_2d = lin_2d.score(X_test_2, y_test)\n",
    "score_3d = lin_3d.score(X_test_3, y_test)\n",
    "score_4d = lin_4d.score(X_test_4, y_test)\n",
    "\n",
    "print(\"二次式における'LSTAT'の住宅価格への決定係数は%.2f\"%(score_2d))\n",
    "print(\"三次式における'LSTAT'の住宅価格への決定係数は%.2f\"%(score_3d))\n",
    "print(\"四次式における'LSTAT'の住宅価格への決定係数は%.2f\"%(score_4d))"
   ]
  },
  {
   "cell_type": "markdown",
   "metadata": {},
   "source": [
    "## 次数が大きくなるとどうなるか記述せよ\n",
    "以下の観点をすべて含めて記述しましょう。\n",
    "\n",
    "### 説明変数をxとして、次数を増やしていくとどのように数式が変化していくか記述せよ（1次式 ax + b）\n",
    "\n",
    "2次式 $ax^2+bx+c$\n",
    "\n",
    "3次式 $ax^3+bx^2+cx+d$\n",
    "\n",
    "### 次数を増やすとどのようなメリットが考えられるか\n",
    "\n",
    "次数を増やすメリットは、直線では表現できないモデルを表現できる。\n",
    "\n",
    "### 次数を増やすとどのようなデメリットが考えられるか\n",
    "\n",
    "デメリットは、過学習を起こす恐れがある。"
   ]
  },
  {
   "cell_type": "markdown",
   "metadata": {},
   "source": [
    "## 重回帰\n",
    "\n",
    "今回は、LSTATのみを使用したが、他の特徴量も使用して学習させましょう。"
   ]
  },
  {
   "cell_type": "code",
   "execution_count": 25,
   "metadata": {
    "collapsed": false
   },
   "outputs": [
    {
     "name": "stdout",
     "output_type": "stream",
     "text": [
      "一次式における住宅価格への決定係数は0.60\n",
      "二次式における住宅価格への決定係数は0.72\n",
      "三次式における住宅価格への決定係数は0.70\n",
      "四次式における住宅価格への決定係数は0.64\n",
      "五次式における住宅価格への決定係数は0.51\n"
     ]
    }
   ],
   "source": [
    "X=pd.DataFrame(boston.data, columns=boston.feature_names)\n",
    "y=pd.DataFrame(boston.target)\n",
    "\n",
    "X_N = X.loc[:, ['LSTAT', 'PTRATIO', 'RM']]\n",
    "\n",
    "X_N_train,X_N_test,y_train,y_test=train_test_split(X_N,y,test_size=0.3,random_state=0)\n",
    "\n",
    "lin_1d_N = LinearRegression()\n",
    "lin_2d_N = LinearRegression()\n",
    "lin_3d_N = LinearRegression()\n",
    "lin_4d_N = LinearRegression()\n",
    "lin_5d_N = LinearRegression()\n",
    "\n",
    "degree_2_N = PolynomialFeatures(degree=2)\n",
    "degree_3_N = PolynomialFeatures(degree=3)\n",
    "degree_4_N = PolynomialFeatures(degree=4)\n",
    "degree_5_N = PolynomialFeatures(degree=5)\n",
    "\n",
    "X_N_train_2 = degree_2_N.fit_transform(X_N_train)\n",
    "X_N_train_3 = degree_3_N.fit_transform(X_N_train)\n",
    "X_N_train_4 = degree_4_N.fit_transform(X_N_train)\n",
    "X_N_train_5 = degree_5_N.fit_transform(X_N_train)\n",
    "\n",
    "lin_1d_N.fit(X_N_train, y_train)\n",
    "lin_2d_N.fit(X_N_train_2, y_train)\n",
    "lin_3d_N.fit(X_N_train_3, y_train)\n",
    "lin_4d_N.fit(X_N_train_4, y_train)\n",
    "lin_5d_N.fit(X_N_train_5, y_train)\n",
    "\n",
    "X_N_test_2 = degree_2_N.fit_transform(X_N_test)\n",
    "X_N_test_3 = degree_3_N.fit_transform(X_N_test)\n",
    "X_N_test_4 = degree_4_N.fit_transform(X_N_test)\n",
    "X_N_test_5 = degree_5_N.fit_transform(X_N_test)\n",
    "\n",
    "X_N_score_1d = lin_1d_N.score(X_N_test, y_test)\n",
    "X_N_score_2d = lin_2d_N.score(X_N_test_2, y_test)\n",
    "X_N_score_3d = lin_3d_N.score(X_N_test_3, y_test)\n",
    "X_N_score_4d = lin_4d_N.score(X_N_test_4, y_test)\n",
    "X_N_score_5d = lin_5d_N.score(X_N_test_5, y_test)\n",
    "\n",
    "print(\"一次式における住宅価格への決定係数は%.2f\"%(X_N_score_1d))\n",
    "print(\"二次式における住宅価格への決定係数は%.2f\"%(X_N_score_2d))\n",
    "print(\"三次式における住宅価格への決定係数は%.2f\"%(X_N_score_3d))\n",
    "print(\"四次式における住宅価格への決定係数は%.2f\"%(X_N_score_4d))\n",
    "print(\"五次式における住宅価格への決定係数は%.2f\"%(X_N_score_5d))"
   ]
  },
  {
   "cell_type": "markdown",
   "metadata": {
    "collapsed": false
   },
   "source": [
    "## 重回帰について記述せよ\n",
    "以下の観点をすべて含めて記述しましょう。\n",
    "\n",
    "### 説明変数を増やすことでどのようなメリットがあるか\n",
    "\n",
    "### 説明変数を増やすことでどのようなデメリットがあるか\n",
    "\n",
    "メリットはモデルを表現しやすくなる。 デメリットは、計算量がおおくなる。"
   ]
  }
 ],
 "metadata": {
  "kernelspec": {
   "display_name": "Python 3",
   "language": "python",
   "name": "python3"
  },
  "language_info": {
   "codemirror_mode": {
    "name": "ipython",
    "version": 3
   },
   "file_extension": ".py",
   "mimetype": "text/x-python",
   "name": "python",
   "nbconvert_exporter": "python",
   "pygments_lexer": "ipython3",
   "version": "3.6.0"
  }
 },
 "nbformat": 4,
 "nbformat_minor": 2
}
